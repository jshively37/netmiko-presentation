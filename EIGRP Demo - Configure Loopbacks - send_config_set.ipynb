{
 "cells": [
  {
   "cell_type": "markdown",
   "metadata": {},
   "source": [
    "### Configure Loopbacks From A List\n",
    "\n",
    "One powerful feature of Netmiko is the ability to push configuration information. As previously discussed this process is also initutive for most network engineers because the format Netmiko expects configuration data is the same way it would be issued from a CLI.\n",
    "\n",
    "In this lab we are going to push Loopback configuration to the two routers in the Programmability Lab Guide.\n",
    "\n",
    "In order to utilize Netmiko we need to import it. There are two commonly used methods:\n",
    "* ```from netmiko import Netmiko```\n",
    "* ```from netmiko import ConnectHandler```"
   ]
  },
  {
   "cell_type": "code",
   "execution_count": 1,
   "metadata": {},
   "outputs": [],
   "source": [
    "import yaml\n",
    "from getpass import getpass\n",
    "from netmiko import Netmiko\n",
    "from pprint import pprint"
   ]
  },
  {
   "cell_type": "markdown",
   "metadata": {},
   "source": [
    "### Read Inventory File\n",
    "\n",
    "The source of truth for our network configuration will be a YAML file called ```routers.yml```:\n",
    "```yaml\n",
    "r1:\n",
    "  host: 192.168.2.161\n",
    "  port: 22\n",
    "  device_type: cisco_ios\n",
    "  eigrp:\n",
    "    as: 1\n",
    "    advertised_networks:\n",
    "      - network: 1.1.1.1\n",
    "        prefix: 0.0.0.0\n",
    "      - network: 172.31.12.0\n",
    "        prefix: 0.0.0.255\n",
    "  interfaces:\n",
    "    - name: loopback1\n",
    "      address: 1.1.1.1\n",
    "      netmask: 255.255.255.255\n",
    "      enabled: true\n",
    "\n",
    "r2:\n",
    "  host: 192.168.2.162\n",
    "  port: 22\n",
    "  device_type: cisco_ios\n",
    "  eigrp:\n",
    "    as: 1\n",
    "    advertised_networks:\n",
    "      - network: 2.2.2.2\n",
    "        prefix: 0.0.0.0\n",
    "      - network: 172.31.12.0\n",
    "        prefix: 0.0.0.255\n",
    "  interfaces:\n",
    "    - name: loopback2\n",
    "      address: 2.2.2.2\n",
    "      netmask: 255.255.255.255\n",
    "      enabled: true\n",
    "```\n",
    "\n",
    "The ``` def read_inventory``` function will utilize the Python yaml library to read this file and return a dictionary."
   ]
  },
  {
   "cell_type": "code",
   "execution_count": 2,
   "metadata": {},
   "outputs": [],
   "source": [
    "def read_inventory(inventory_file):\n",
    "    with open(inventory_file, 'r') as f:\n",
    "        inventory = yaml.safe_load(f)\n",
    "    return inventory"
   ]
  },
  {
   "cell_type": "markdown",
   "metadata": {},
   "source": [
    "### Create a List\n",
    "\n",
    "The Netmiko send_config_set method expects the configuration data in a list format. This is true even if you had a single command. For example if you wanted to set the ntp server to 192.168.100.5 you would need to format the data as:\n",
    "```\n",
    "config_command = ['ntp server 192.168.100.5']\n",
    "```\n",
    "\n",
    "The ```configure_loopback``` is a basic function that will take the interfaces information from our inventory file and return a list:\n",
    "```yaml\n",
    "interfaces:\n",
    "  - name: loopback2\n",
    "    address: 2.2.2.2\n",
    "    netmask: 255.255.255.255\n",
    "    enabled: true\n",
    "```\n",
    "\n",
    "will return:\n",
    "```python\n",
    "config_command = ['interface loopback2', 'ip address 2.2.2.2 255.255.255', 'no shutdown']\n",
    "```"
   ]
  },
  {
   "cell_type": "code",
   "execution_count": 3,
   "metadata": {},
   "outputs": [],
   "source": [
    "def configure_loopback(interfaces):\n",
    "    for interface in interfaces:\n",
    "        interface_configuration = list()\n",
    "        interface_configuration.append(f\"interface {interface['name']}\")\n",
    "        interface_configuration.append(f\"ip address {interface['address']} {interface['netmask']}\")\n",
    "        if interface['enabled'] is True:\n",
    "            interface_configuration.append('no shutdown')\n",
    "        else:\n",
    "            interface_configuration.append('shutdown')\n",
    "    return interface_configuration"
   ]
  },
  {
   "cell_type": "markdown",
   "metadata": {},
   "source": [
    "### Main Execution\n",
    "\n",
    "First thing is read in the inventory file."
   ]
  },
  {
   "cell_type": "code",
   "execution_count": 4,
   "metadata": {},
   "outputs": [
    {
     "name": "stdout",
     "output_type": "stream",
     "text": [
      "Enter your username: admin\n",
      "Enter your password: ········\n"
     ]
    }
   ],
   "source": [
    "if __name__ == '__main__':\n",
    "    username=input('Enter your username: ')\n",
    "    password=getpass('Enter your password: ')"
   ]
  },
  {
   "cell_type": "code",
   "execution_count": 5,
   "metadata": {},
   "outputs": [],
   "source": [
    "    inventory_file = 'inventory/routers.yml'\n",
    "    inventory = read_inventory(inventory_file)"
   ]
  },
  {
   "cell_type": "markdown",
   "metadata": {},
   "source": [
    "### Log into the routers and execute the commands\n",
    "\n",
    "After reading in our inventory file we are going to loop through the inventory. \n",
    "\n",
    "The first task is call the ```configure_loopback``` method to create our configuration list.\n",
    "\n",
    "Netmiko has two possible ways that you can create a session. The first option is to create a dictionary:\n",
    "```python\n",
    "some_device = {'device_type': 'cisco_xe',\n",
    "        'host': '10.246.32.203',\n",
    "        'port': 3222,\n",
    "        'username': username,\n",
    "        'password': password,\n",
    "        'device_type': device type}\n",
    "```\n",
    "Supported device_types can be found on Netmiko's website.\n",
    "\n",
    "After defining your dictionary you can start a context manager and pass the dictionary to Netmiko:\n",
    "```python\n",
    "with Netmiko(**some_device) as session:\n",
    "    # Continue\n",
    "```\n",
    "\n",
    "Another option is detailed below and that is to pass the variables to Netmiko.\n",
    "\n",
    "After connecting to the device you can utilize Netmiko's find_prompt() which will return the device's prompt. \n",
    "\n",
    "We will then utilize Netmiko's send_config_set method passing in our generated configuration list from the configure_loopback function.\n",
    "\n",
    "We can also print out the output. This is how Netmiko issued our requested commands. This should look very familiar to network engineers."
   ]
  },
  {
   "cell_type": "code",
   "execution_count": 6,
   "metadata": {},
   "outputs": [
    {
     "name": "stdout",
     "output_type": "stream",
     "text": [
      "Logging into: csr1\n",
      "CSR1#\n",
      "config term\n",
      "Enter configuration commands, one per line.  End with CNTL/Z.\n",
      "CSR1(config)#interface loopback1\n",
      "CSR1(config-if)#ip address 1.1.1.1 255.255.255.255\n",
      "CSR1(config-if)#no shutdown\n",
      "CSR1(config-if)#end\n",
      "CSR1#\n",
      "Logging into: csr3\n",
      "CSR3#\n",
      "config term\n",
      "Enter configuration commands, one per line.  End with CNTL/Z.\n",
      "CSR3(config)#interface loopback3\n",
      "CSR3(config-if)#ip address 3.3.3.3 255.255.255.255\n",
      "CSR3(config-if)#no shutdown\n",
      "CSR3(config-if)#end\n",
      "CSR3#\n"
     ]
    }
   ],
   "source": [
    "    for key, value in inventory.items():\n",
    "        interface_configuration = configure_loopback(value['interfaces'])\n",
    "        print(f\"Logging into: {key}\")\n",
    "        with Netmiko(host=value['host'], \n",
    "                 port=value['port'],\n",
    "                 username=username, \n",
    "                 password=password, \n",
    "                 device_type=value['device_type']) as session:\n",
    "            print(session.find_prompt())\n",
    "            output = session.send_config_set(interface_configuration)\n",
    "            print(output)\n",
    "        "
   ]
  },
  {
   "cell_type": "code",
   "execution_count": null,
   "metadata": {},
   "outputs": [],
   "source": [
    "    "
   ]
  }
 ],
 "metadata": {
  "kernelspec": {
   "display_name": "Python 3",
   "language": "python",
   "name": "python3"
  },
  "language_info": {
   "codemirror_mode": {
    "name": "ipython",
    "version": 3
   },
   "file_extension": ".py",
   "mimetype": "text/x-python",
   "name": "python",
   "nbconvert_exporter": "python",
   "pygments_lexer": "ipython3",
   "version": "3.6.9"
  }
 },
 "nbformat": 4,
 "nbformat_minor": 4
}
