{
 "cells": [
  {
   "cell_type": "code",
   "execution_count": 1,
   "metadata": {},
   "outputs": [],
   "source": [
    "import yaml\n",
    "from getpass import getpass\n",
    "from netmiko import Netmiko\n",
    "from pprint import pprint"
   ]
  },
  {
   "cell_type": "code",
   "execution_count": 2,
   "metadata": {},
   "outputs": [],
   "source": [
    "def read_inventory(inventory_file):\n",
    "    with open(inventory_file, 'r') as f:\n",
    "        inventory = yaml.safe_load(f)\n",
    "    return inventory"
   ]
  },
  {
   "cell_type": "code",
   "execution_count": 3,
   "metadata": {},
   "outputs": [],
   "source": [
    "def configure_loopback(interfaces):\n",
    "    for interface in interfaces:\n",
    "        interface_configuration = list()\n",
    "        interface_configuration.append(f\"interface {interface['name']}\")\n",
    "        interface_configuration.append(f\"ip address {interface['address']} {interface['netmask']}\")\n",
    "        if interface['enabled'] is True:\n",
    "            interface_configuration.append('no shutdown')\n",
    "        else:\n",
    "            interface_configuration.append('shutdown')\n",
    "    return interface_configuration"
   ]
  },
  {
   "cell_type": "markdown",
   "metadata": {},
   "source": [
    "### Main Execution\n",
    "\n",
    "First thing is read in the inventory file."
   ]
  },
  {
   "cell_type": "code",
   "execution_count": 4,
   "metadata": {},
   "outputs": [
    {
     "name": "stdout",
     "output_type": "stream",
     "text": [
      "Enter your username: wwt\n",
      "Enter your password: ········\n"
     ]
    }
   ],
   "source": [
    "if __name__ == '__main__':\n",
    "    username=input('Enter your username: ')\n",
    "    password=getpass('Enter your password: ')"
   ]
  },
  {
   "cell_type": "code",
   "execution_count": 5,
   "metadata": {},
   "outputs": [],
   "source": [
    "    inventory_file = 'inventory/routers.yml'\n",
    "    inventory = read_inventory(inventory_file)"
   ]
  },
  {
   "cell_type": "markdown",
   "metadata": {},
   "source": [
    "### Log into the routers and execute the commands"
   ]
  },
  {
   "cell_type": "code",
   "execution_count": null,
   "metadata": {},
   "outputs": [],
   "source": [
    "    for key, value in inventory.items():\n",
    "        interface_configuration = configure_loopback(value['interfaces'])\n",
    "        with Netmiko(host=value['host'], \n",
    "                 port=value['port'],\n",
    "                 username=username, \n",
    "                 password=password, \n",
    "                 device_type=value['device_type']) as session:\n",
    "            print(session.find_prompt())\n",
    "            output = session.send_config_set(interface_configuration)\n",
    "            print(output)\n",
    "        "
   ]
  },
  {
   "cell_type": "code",
   "execution_count": null,
   "metadata": {},
   "outputs": [],
   "source": [
    "    "
   ]
  }
 ],
 "metadata": {
  "kernelspec": {
   "display_name": "Python 3",
   "language": "python",
   "name": "python3"
  },
  "language_info": {
   "codemirror_mode": {
    "name": "ipython",
    "version": 3
   },
   "file_extension": ".py",
   "mimetype": "text/x-python",
   "name": "python",
   "nbconvert_exporter": "python",
   "pygments_lexer": "ipython3",
   "version": "3.8.1"
  }
 },
 "nbformat": 4,
 "nbformat_minor": 4
}
