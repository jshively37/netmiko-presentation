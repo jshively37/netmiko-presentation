{
 "cells": [
  {
   "cell_type": "code",
   "execution_count": 1,
   "metadata": {},
   "outputs": [],
   "source": [
    "import yaml\n",
    "from netmiko import Netmiko\n",
    "from pprint import pprint"
   ]
  },
  {
   "cell_type": "code",
   "execution_count": 2,
   "metadata": {},
   "outputs": [],
   "source": [
    "def read_inventory(inventory_file):\n",
    "    with open(inventory_file, 'r') as f:\n",
    "        inventory = yaml.safe_load(f)\n",
    "    return inventory"
   ]
  },
  {
   "cell_type": "code",
   "execution_count": 3,
   "metadata": {},
   "outputs": [],
   "source": [
    "def configure_loopback(interfaces):\n",
    "    for interface in interfaces:\n",
    "        interface_configuration = list()\n",
    "        interface_configuration.append(f\"interface {interface['name']}\")\n",
    "        interface_configuration.append(f\"ip address {interface['address']} {interface['netmask']}\")\n",
    "        if interface['enabled'] is True:\n",
    "            interface_configuration.append('no shutdown')\n",
    "        else:\n",
    "            interface_configuration.append('shutdown')\n",
    "    return interface_configuration"
   ]
  },
  {
   "cell_type": "markdown",
   "metadata": {},
   "source": [
    "### Main Execution\n",
    "\n",
    "First thing is read in the inventory file."
   ]
  },
  {
   "cell_type": "code",
   "execution_count": 4,
   "metadata": {},
   "outputs": [],
   "source": [
    "if __name__ == '__main__':\n",
    "    username='admin'\n",
    "    password='WWTwwt1!'"
   ]
  },
  {
   "cell_type": "code",
   "execution_count": 5,
   "metadata": {},
   "outputs": [],
   "source": [
    "    inventory_file = 'inventory/routers.yml'\n",
    "    inventory = read_inventory(inventory_file)"
   ]
  },
  {
   "cell_type": "markdown",
   "metadata": {},
   "source": [
    "### Log into the routers and execute the commands"
   ]
  },
  {
   "cell_type": "code",
   "execution_count": 6,
   "metadata": {},
   "outputs": [
    {
     "name": "stdout",
     "output_type": "stream",
     "text": [
      "CSR1#\n",
      "config term\n",
      "Enter configuration commands, one per line.  End with CNTL/Z.\n",
      "CSR1(config)#interface loopback1\n",
      "CSR1(config-if)#ip address 1.1.1.1 255.255.255.255\n",
      "CSR1(config-if)#no shutdown\n",
      "CSR1(config-if)#end\n",
      "CSR1#\n",
      "CSR3#\n",
      "config term\n",
      "Enter configuration commands, one per line.  End with CNTL/Z.\n",
      "CSR3(config)#interface loopback3\n",
      "CSR3(config-if)#ip address 3.3.3.3 255.255.255.255\n",
      "CSR3(config-if)#no shutdown\n",
      "CSR3(config-if)#end\n",
      "CSR3#\n"
     ]
    }
   ],
   "source": [
    "    for key, value in inventory.items():\n",
    "        interface_configuration = configure_loopback(value['interfaces'])\n",
    "        with Netmiko(host=value['host'], \n",
    "                 port=value['port'],\n",
    "                 username=username, \n",
    "                 password=password, \n",
    "                 device_type=value['device_type']) as session:\n",
    "            print(session.find_prompt())\n",
    "            output = session.send_config_set(interface_configuration)\n",
    "            print(output)\n",
    "        "
   ]
  },
  {
   "cell_type": "code",
   "execution_count": null,
   "metadata": {},
   "outputs": [],
   "source": [
    "    "
   ]
  }
 ],
 "metadata": {
  "kernelspec": {
   "display_name": "Python 3",
   "language": "python",
   "name": "python3"
  },
  "language_info": {
   "codemirror_mode": {
    "name": "ipython",
    "version": 3
   },
   "file_extension": ".py",
   "mimetype": "text/x-python",
   "name": "python",
   "nbconvert_exporter": "python",
   "pygments_lexer": "ipython3",
   "version": "3.8.1"
  }
 },
 "nbformat": 4,
 "nbformat_minor": 4
}
