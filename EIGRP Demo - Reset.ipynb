{
 "cells": [
  {
   "cell_type": "markdown",
   "metadata": {},
   "source": [
    "### Reset Lab\n",
    "\n",
    "Proceed with Caution.\n",
    "\n",
    "This will delete the loopback and EIGRP information."
   ]
  },
  {
   "cell_type": "code",
   "execution_count": 1,
   "metadata": {},
   "outputs": [],
   "source": [
    "import yaml\n",
    "from getpass import getpass\n",
    "from netmiko import Netmiko\n",
    "from pprint import pprint"
   ]
  },
  {
   "cell_type": "code",
   "execution_count": 2,
   "metadata": {},
   "outputs": [],
   "source": [
    "def read_inventory(inventory_file):\n",
    "    with open(inventory_file, 'r') as f:\n",
    "        inventory = yaml.safe_load(f)\n",
    "    return inventory"
   ]
  },
  {
   "cell_type": "code",
   "execution_count": 3,
   "metadata": {},
   "outputs": [],
   "source": [
    "if __name__ == '__main__':\n",
    "    username=input('Enter your username: ')\n",
    "    password=getpass('Enter your password: ')\n",
    "    inventory_file = 'inventory/routers.yml'\n",
    "    inventory = read_inventory(inventory_file)"
   ]
  },
  {
   "cell_type": "code",
   "execution_count": 4,
   "metadata": {},
   "outputs": [
    {
     "name": "stdout",
     "output_type": "stream",
     "text": [
      "{'host': '10.246.32.203', 'port': 1222, 'device_type': 'cisco_ios', 'eigrp': {'as': 1, 'advertised_networks': [{'network': '1.1.1.1', 'prefix': '0.0.0.0'}, {'network': '192.168.100.0', 'prefix': '0.0.0.255'}]}, 'interfaces': [{'name': 'loopback1', 'address': '1.1.1.1', 'netmask': '255.255.255.255', 'enabled': True}]}\n",
      "CSR1#\n",
      "{'host': '10.246.32.203', 'port': 3222, 'device_type': 'cisco_ios', 'eigrp': {'as': 1, 'advertised_networks': [{'network': '3.3.3.3', 'prefix': '0.0.0.0'}, {'network': '192.168.100.0', 'prefix': '0.0.0.255'}]}, 'interfaces': [{'name': 'loopback3', 'address': '3.3.3.3', 'netmask': '255.255.255.255', 'enabled': True}]}\n",
      "CSR3#\n"
     ]
    }
   ],
   "source": [
    "    for key, value in inventory.items():\n",
    "        print(value)\n",
    "        with Netmiko(host=value['host'], \n",
    "                     port=value['port'],\n",
    "                     username=username, \n",
    "                     password=password, \n",
    "                     device_type=value['device_type']) as session:\n",
    "            print(session.find_prompt())     \n",
    "            session.send_config_set([f\"no router eigrp {value['eigrp']['as']}\"])\n",
    "            session.send_config_set([f\"no interface {value['interfaces'][0]['name']}\"])\n",
    "            session.send_command('show run | i router eigrp|Loopback')"
   ]
  },
  {
   "cell_type": "code",
   "execution_count": null,
   "metadata": {},
   "outputs": [],
   "source": []
  }
 ],
 "metadata": {
  "kernelspec": {
   "display_name": "Python 3",
   "language": "python",
   "name": "python3"
  },
  "language_info": {
   "codemirror_mode": {
    "name": "ipython",
    "version": 3
   },
   "file_extension": ".py",
   "mimetype": "text/x-python",
   "name": "python",
   "nbconvert_exporter": "python",
   "pygments_lexer": "ipython3",
   "version": "3.6.9"
  }
 },
 "nbformat": 4,
 "nbformat_minor": 4
}
