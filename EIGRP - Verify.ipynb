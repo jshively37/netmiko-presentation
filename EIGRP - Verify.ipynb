{
 "cells": [
  {
   "cell_type": "code",
   "execution_count": 1,
   "metadata": {},
   "outputs": [],
   "source": [
    "import yaml\n",
    "from getpass import getpass\n",
    "from netmiko import Netmiko\n",
    "from pprint import pprint"
   ]
  },
  {
   "cell_type": "code",
   "execution_count": 2,
   "metadata": {},
   "outputs": [],
   "source": [
    "def read_inventory(inventory_file):\n",
    "    with open(inventory_file, 'r') as f:\n",
    "        inventory = yaml.safe_load(f)\n",
    "    return inventory"
   ]
  },
  {
   "cell_type": "code",
   "execution_count": 3,
   "metadata": {},
   "outputs": [],
   "source": [
    "def show_commands(session, commands):\n",
    "    for command in commands:\n",
    "        print(f\"Now running: {command}\")\n",
    "        output = session.send_command(command)\n",
    "        pprint(output) "
   ]
  },
  {
   "cell_type": "code",
   "execution_count": 4,
   "metadata": {},
   "outputs": [],
   "source": [
    "if __name__ == '__main__':\n",
    "    username=input('Enter your username: ')\n",
    "    password=getpass('Enter your password: ')\n",
    "    inventory_file = 'inventory/routers.yml'\n",
    "    inventory = read_inventory(inventory_file)    "
   ]
  },
  {
   "cell_type": "code",
   "execution_count": 5,
   "metadata": {},
   "outputs": [
    {
     "name": "stdout",
     "output_type": "stream",
     "text": [
      "CSR1#\n",
      "Now running: show ip eigrp neighbor\n",
      "('EIGRP-IPv4 Neighbors for AS(1)\\n'\n",
      " 'H   Address                 Interface              Hold Uptime   SRTT   RTO  '\n",
      " 'Q  Seq\\n'\n",
      " '                                                   (sec)         (ms)       '\n",
      " 'Cnt Num\\n'\n",
      " '0   192.168.100.3           Gi2                      13 00:00:29   30   180  '\n",
      " '0  3')\n",
      "Now running: show ip route eigrp\n",
      "('Codes: L - local, C - connected, S - static, R - RIP, M - mobile, B - BGP\\n'\n",
      " '       D - EIGRP, EX - EIGRP external, O - OSPF, IA - OSPF inter area \\n'\n",
      " '       N1 - OSPF NSSA external type 1, N2 - OSPF NSSA external type 2\\n'\n",
      " '       E1 - OSPF external type 1, E2 - OSPF external type 2, m - OMP\\n'\n",
      " '       n - NAT, Ni - NAT inside, No - NAT outside, Nd - NAT DIA\\n'\n",
      " '       i - IS-IS, su - IS-IS summary, L1 - IS-IS level-1, L2 - IS-IS '\n",
      " 'level-2\\n'\n",
      " '       ia - IS-IS inter area, * - candidate default, U - per-user static '\n",
      " 'route\\n'\n",
      " '       H - NHRP, G - NHRP registered, g - NHRP registration summary\\n'\n",
      " '       o - ODR, P - periodic downloaded static route, l - LISP\\n'\n",
      " '       a - application route\\n'\n",
      " '       + - replicated route, % - next hop override, p - overrides from PfR\\n'\n",
      " '\\n'\n",
      " 'Gateway of last resort is 172.16.1.254 to network 0.0.0.0\\n'\n",
      " '\\n'\n",
      " '      3.0.0.0/32 is subnetted, 1 subnets\\n'\n",
      " 'D        3.3.3.3 [90/130816] via 192.168.100.3, 00:00:30, GigabitEthernet2')\n",
      "----------------------------------------------------------------------------------------------------\n",
      "CSR3#\n",
      "Now running: show ip eigrp neighbor\n",
      "('EIGRP-IPv4 Neighbors for AS(1)\\n'\n",
      " 'H   Address                 Interface              Hold Uptime   SRTT   RTO  '\n",
      " 'Q  Seq\\n'\n",
      " '                                                   (sec)         (ms)       '\n",
      " 'Cnt Num\\n'\n",
      " '0   192.168.100.1           Gi2                      12 00:00:39   13   100  '\n",
      " '0  3')\n",
      "Now running: show ip route eigrp\n",
      "('Codes: L - local, C - connected, S - static, R - RIP, M - mobile, B - BGP\\n'\n",
      " '       D - EIGRP, EX - EIGRP external, O - OSPF, IA - OSPF inter area \\n'\n",
      " '       N1 - OSPF NSSA external type 1, N2 - OSPF NSSA external type 2\\n'\n",
      " '       E1 - OSPF external type 1, E2 - OSPF external type 2, m - OMP\\n'\n",
      " '       n - NAT, Ni - NAT inside, No - NAT outside, Nd - NAT DIA\\n'\n",
      " '       i - IS-IS, su - IS-IS summary, L1 - IS-IS level-1, L2 - IS-IS '\n",
      " 'level-2\\n'\n",
      " '       ia - IS-IS inter area, * - candidate default, U - per-user static '\n",
      " 'route\\n'\n",
      " '       H - NHRP, G - NHRP registered, g - NHRP registration summary\\n'\n",
      " '       o - ODR, P - periodic downloaded static route, l - LISP\\n'\n",
      " '       a - application route\\n'\n",
      " '       + - replicated route, % - next hop override, p - overrides from PfR\\n'\n",
      " '\\n'\n",
      " 'Gateway of last resort is 172.16.1.254 to network 0.0.0.0\\n'\n",
      " '\\n'\n",
      " '      1.0.0.0/32 is subnetted, 1 subnets\\n'\n",
      " 'D        1.1.1.1 [90/130816] via 192.168.100.1, 00:00:41, GigabitEthernet2')\n",
      "----------------------------------------------------------------------------------------------------\n"
     ]
    }
   ],
   "source": [
    "    commands = ['show ip eigrp neighbor', 'show ip route eigrp']\n",
    "    for key, value in inventory.items():\n",
    "        with Netmiko(host=value['host'], \n",
    "                     port=value['port'],\n",
    "                     username=username, \n",
    "                     password=password, \n",
    "                     device_type=value['device_type']) as session:\n",
    "            print(session.find_prompt())   \n",
    "            show_commands(session, commands)\n",
    "            print('-' * 100)\n",
    "            "
   ]
  }
 ],
 "metadata": {
  "kernelspec": {
   "display_name": "Python 3",
   "language": "python",
   "name": "python3"
  },
  "language_info": {
   "codemirror_mode": {
    "name": "ipython",
    "version": 3
   },
   "file_extension": ".py",
   "mimetype": "text/x-python",
   "name": "python",
   "nbconvert_exporter": "python",
   "pygments_lexer": "ipython3",
   "version": "3.8.1"
  }
 },
 "nbformat": 4,
 "nbformat_minor": 4
}
