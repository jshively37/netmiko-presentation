{
 "cells": [
  {
   "cell_type": "markdown",
   "metadata": {},
   "source": [
    "# Show Commands Script\n",
    "\n",
    "During this lab we are going to utilize Netmiko to log into a handful of routers and issue some basic show commands. \n",
    "\n",
    "This lab will also utilize three methods for returning the data:\n",
    "standard: String\n",
    "Genie: This utilizes the Cisco Genie library and will return the data as a dictionary.\n",
    "TextFSM: This utilizes the Networktocode templates and will return the data as a list of dictionaries."
   ]
  },
  {
   "cell_type": "markdown",
   "metadata": {},
   "source": [
    "### Import Statements\n",
    "\n",
    "In order for this script to run we are going to need some specific libraries:\n",
    "yaml = read in our inventory file.\n",
    "getpass = securely prompt user for the password.\n",
    "netmiko = handle logging into the equipment and execute commands\n",
    "pprint = pretty printing of the output."
   ]
  },
  {
   "cell_type": "code",
   "execution_count": 1,
   "metadata": {},
   "outputs": [],
   "source": [
    "import yaml\n",
    "from getpass import getpass\n",
    "from netmiko import Netmiko\n",
    "from pprint import pprint"
   ]
  },
  {
   "cell_type": "markdown",
   "metadata": {},
   "source": [
    "### Read Inventory\n",
    "\n",
    "This is a basic function that will read in a yaml file and return it as a dictionary.\n",
    "\n",
    "The YAML format should be in:\n",
    "```\n",
    "device_name:  \n",
    "  host: IP address of host\n",
    "  port: SSH port\n",
    "  device_type: Associated device type of the device\n",
    "```"
   ]
  },
  {
   "cell_type": "code",
   "execution_count": 2,
   "metadata": {},
   "outputs": [],
   "source": [
    "def read_inventory(inventory_file):\n",
    "    with open(inventory_file, 'r') as file:\n",
    "        hosts = yaml.safe_load(file)\n",
    "        return hosts"
   ]
  },
  {
   "cell_type": "markdown",
   "metadata": {},
   "source": [
    "### Display output using Genie\n",
    "\n",
    "Genie is "
   ]
  },
  {
   "cell_type": "code",
   "execution_count": 3,
   "metadata": {},
   "outputs": [],
   "source": [
    "def show_commands_genie(session, commands):\n",
    "    for command in commands:\n",
    "        output = session.send_command(command, use_genie=True)\n",
    "        pprint(output) \n",
    "        pprint(type(output))"
   ]
  },
  {
   "cell_type": "markdown",
   "metadata": {},
   "source": [
    "### Display output using TextFSM\n"
   ]
  },
  {
   "cell_type": "code",
   "execution_count": 4,
   "metadata": {},
   "outputs": [],
   "source": [
    "def show_commands_textfsm(session, commands):\n",
    "    for command in commands:\n",
    "        output = session.send_command(command, use_textfsm=True)\n",
    "        pprint(output) \n",
    "        pprint(type(output))"
   ]
  },
  {
   "cell_type": "markdown",
   "metadata": {},
   "source": [
    "### Standard output display\n"
   ]
  },
  {
   "cell_type": "code",
   "execution_count": 5,
   "metadata": {},
   "outputs": [],
   "source": [
    "def show_commands_standard(session, commands):\n",
    "    for command in commands:\n",
    "        output = session.send_command(command)\n",
    "        pprint(output) \n",
    "        pprint(type(output))"
   ]
  },
  {
   "cell_type": "code",
   "execution_count": 6,
   "metadata": {},
   "outputs": [],
   "source": [
    "def main():\n",
    "    inventory_file = 'inventory/routers.yml'\n",
    "    \n",
    "    # List of show commands\n",
    "    commands = ['show ip interface brief']\n",
    "    \n",
    "    # Prompt for username and password\n",
    "    username = input('Enter the username: ')\n",
    "    password = getpass('Enter the password: ')\n",
    "    \n",
    "    # Read in the inventory\n",
    "    hosts = read_inventory(inventory_file)\n",
    "    \n",
    "    # Loop through the inventory and use a context handler for the Netmiko session\n",
    "    for key, value in hosts.items():\n",
    "        device = {'host': value['host'], 'port': value['port'],\n",
    "                  'username': username, 'password': password,\n",
    "                  'device_type': value['device_type']}\n",
    "        with Netmiko(**device) as session:\n",
    "            print(f\"Now runing for {key}\")\n",
    "            # Uncomment to display output using Genie\n",
    "            # show_commands_genie(session, commands)\n",
    "            \n",
    "            # Uncomment to display output using TextFSM\n",
    "            # show_commands_textfsm(session, commands)\n",
    "            \n",
    "            # Uncomment to use standard output display\n",
    "            show_commands_standard(session, commands)\n",
    "            \n",
    "            print('-'*100)"
   ]
  },
  {
   "cell_type": "code",
   "execution_count": 7,
   "metadata": {},
   "outputs": [
    {
     "name": "stdout",
     "output_type": "stream",
     "text": [
      "Enter the username: admin\n",
      "Enter the password: ········\n",
      "Now runing for csr1\n",
      "('Interface              IP-Address      OK? Method Status                '\n",
      " 'Protocol\\n'\n",
      " 'GigabitEthernet1       172.16.1.10     YES NVRAM  up                    '\n",
      " 'up      \\n'\n",
      " 'GigabitEthernet2       192.168.100.1   YES NVRAM  up                    '\n",
      " 'up      \\n'\n",
      " 'GigabitEthernet3       unassigned      YES NVRAM  administratively down '\n",
      " 'down    \\n'\n",
      " 'GigabitEthernet4       unassigned      YES NVRAM  up                    '\n",
      " 'up      \\n'\n",
      " 'Loopback1              1.1.1.1         YES NVRAM  up                    '\n",
      " 'up      ')\n",
      "<class 'str'>\n",
      "----------------------------------------------------------------------------------------------------\n",
      "Now runing for csr3\n",
      "('Interface              IP-Address      OK? Method Status                '\n",
      " 'Protocol\\n'\n",
      " 'GigabitEthernet1       172.16.1.13     YES NVRAM  up                    '\n",
      " 'up      \\n'\n",
      " 'GigabitEthernet2       192.168.100.2   YES NVRAM  up                    '\n",
      " 'up      \\n'\n",
      " 'GigabitEthernet3       unassigned      YES NVRAM  administratively down '\n",
      " 'down    \\n'\n",
      " 'GigabitEthernet4       unassigned      YES NVRAM  up                    '\n",
      " 'up      \\n'\n",
      " 'Loopback3              3.3.3.3         YES NVRAM  up                    '\n",
      " 'up      ')\n",
      "<class 'str'>\n",
      "----------------------------------------------------------------------------------------------------\n"
     ]
    }
   ],
   "source": [
    "if __name__ == '__main__':\n",
    "    main()"
   ]
  }
 ],
 "metadata": {
  "kernelspec": {
   "display_name": "Python 3",
   "language": "python",
   "name": "python3"
  },
  "language_info": {
   "codemirror_mode": {
    "name": "ipython",
    "version": 3
   },
   "file_extension": ".py",
   "mimetype": "text/x-python",
   "name": "python",
   "nbconvert_exporter": "python",
   "pygments_lexer": "ipython3",
   "version": "3.6.9"
  }
 },
 "nbformat": 4,
 "nbformat_minor": 4
}
