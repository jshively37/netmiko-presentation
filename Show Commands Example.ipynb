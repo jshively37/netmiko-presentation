{
 "cells": [
  {
   "cell_type": "markdown",
   "metadata": {},
   "source": [
    "# Show Commands Script\n",
    "\n",
    "Up to this point Netmiko has been used to push configuration data and validation returned in nice to read human format.\n",
    "\n",
    "In this lab we are going to utilize Network2Code's NTC templates using Google's TextFSM and Cisco's Genie library to return structured data."
   ]
  },
  {
   "cell_type": "markdown",
   "metadata": {},
   "source": [
    "### Import Statements"
   ]
  },
  {
   "cell_type": "code",
   "execution_count": 1,
   "metadata": {},
   "outputs": [],
   "source": [
    "import yaml\n",
    "from getpass import getpass\n",
    "from netmiko import Netmiko\n",
    "from pprint import pprint"
   ]
  },
  {
   "cell_type": "markdown",
   "metadata": {},
   "source": [
    "### Read Inventory"
   ]
  },
  {
   "cell_type": "code",
   "execution_count": 2,
   "metadata": {},
   "outputs": [],
   "source": [
    "def read_inventory(inventory_file):\n",
    "    with open(inventory_file, 'r') as file:\n",
    "        hosts = yaml.safe_load(file)\n",
    "        return hosts"
   ]
  },
  {
   "cell_type": "markdown",
   "metadata": {},
   "source": [
    "### Display output using Genie\n",
    "\n",
    "Genie is a Cisco project.\n",
    "\n",
    "```\n",
    "pyATS and Genie were developed side by side in the same team, in proper software stack/layers, with pyATS being the generic all-purpose framework, and Genie extending its capabilities and specializing in network device automation & validation.\n",
    "```\n",
    "\n",
    "To utilize Genie within Netmiko there are a couple of pip dependancies, and the container already has them installed.\n",
    "```bash\n",
    "pip install genie\n",
    "pip install pyats\n",
    "```\n",
    "\n",
    "To view all the available parsers that genie supports please visit [https://pubhub.devnetcloud.com/media/genie-feature-browser/docs/#/parsers](https://pubhub.devnetcloud.com/media/genie-feature-browser/docs/#/parsers)\n",
    "\n",
    "Once all the dependancies have been installed to utilize Genie all you have to do is set ```use_genie=True``` within send_command."
   ]
  },
  {
   "cell_type": "code",
   "execution_count": 3,
   "metadata": {},
   "outputs": [],
   "source": [
    "def show_commands_genie(session, commands):\n",
    "    for command in commands:\n",
    "        print(f\"Now running: {command}\")\n",
    "        output = session.send_command(command, use_genie=True)\n",
    "        pprint(output) \n",
    "        pprint(type(output))"
   ]
  },
  {
   "cell_type": "markdown",
   "metadata": {},
   "source": [
    "### Display output using TextFSM\n",
    "\n",
    "TextFSM is a Python project by Google:\n",
    "```\n",
    "TextFSM is a template based state machine to parse semi-formatted text into tables. It was developed by Google and is hosted on Google Code. You find also various forks on GitHub, e.g. for python 3 support (which we will later use). It is highly customizable, because it works with separate template definitions, which contains variables and rules with regular expressions. This library is very helpful to parse any text-based CLI output from network devices. TextFSM can be used within python scripts or as a standalone tool. I think you have now an idea, what TextFSM is. Lets start with the example.\n",
    "```\n",
    "\n",
    "Network To Code has utilized Google's TextFSM project and created templates for parsing Cisco and other vendor's show commands. \n",
    "\n",
    "It does require some setup to run correctly, and if you are using this from the container the work has already been completed. \n",
    "\n",
    "If you wish to the view the templates they are stored in \n",
    "```bash\n",
    "/ntc-templates/templates\n",
    "```\n",
    "The library and installation instructions can be found at: ```https://github.com/networktocode/ntc-templates```\n",
    "\n",
    "Once all the dependancies have been installed to utilize TextFSM all you have to do is set ```use_textfsm=True``` within send_command."
   ]
  },
  {
   "cell_type": "code",
   "execution_count": 4,
   "metadata": {},
   "outputs": [],
   "source": [
    "def show_commands_textfsm(session, commands):\n",
    "    for command in commands:\n",
    "        print(f\"Now running: {command}\")\n",
    "        output = session.send_command(command, use_textfsm=True)\n",
    "        pprint(output) \n",
    "        pprint(type(output))"
   ]
  },
  {
   "cell_type": "markdown",
   "metadata": {},
   "source": [
    "### Main Section"
   ]
  },
  {
   "cell_type": "code",
   "execution_count": 5,
   "metadata": {},
   "outputs": [],
   "source": [
    "if __name__ == '__main__':\n",
    "    inventory_file = 'inventory/routers.yml'\n",
    "    # List of show commands\n",
    "    commands = ['show ip interface brief']"
   ]
  },
  {
   "cell_type": "code",
   "execution_count": 6,
   "metadata": {},
   "outputs": [
    {
     "name": "stdout",
     "output_type": "stream",
     "text": [
      "Enter the username: admin\n",
      "Enter the password: ········\n",
      "Now runing for csr1\n",
      "Using Genie\n",
      "Now running: show ip interface brief\n",
      "{'interface': {'GigabitEthernet1': {'interface_is_ok': 'YES',\n",
      "                                    'ip_address': '172.16.1.10',\n",
      "                                    'method': 'NVRAM',\n",
      "                                    'protocol': 'up',\n",
      "                                    'status': 'up'},\n",
      "               'GigabitEthernet2': {'interface_is_ok': 'YES',\n",
      "                                    'ip_address': '192.168.100.1',\n",
      "                                    'method': 'NVRAM',\n",
      "                                    'protocol': 'up',\n",
      "                                    'status': 'up'},\n",
      "               'GigabitEthernet3': {'interface_is_ok': 'YES',\n",
      "                                    'ip_address': 'unassigned',\n",
      "                                    'method': 'NVRAM',\n",
      "                                    'protocol': 'down',\n",
      "                                    'status': 'administratively down'},\n",
      "               'GigabitEthernet4': {'interface_is_ok': 'YES',\n",
      "                                    'ip_address': 'unassigned',\n",
      "                                    'method': 'NVRAM',\n",
      "                                    'protocol': 'up',\n",
      "                                    'status': 'up'},\n",
      "               'Loopback1': {'interface_is_ok': 'YES',\n",
      "                             'ip_address': '1.1.1.1',\n",
      "                             'method': 'manual',\n",
      "                             'protocol': 'up',\n",
      "                             'status': 'up'},\n",
      "               'Loopback200': {'interface_is_ok': 'YES',\n",
      "                               'ip_address': '200.200.200.200',\n",
      "                               'method': 'other',\n",
      "                               'protocol': 'up',\n",
      "                               'status': 'up'}}}\n",
      "<class 'dict'>\n",
      "----------------------------------------------------------------------------------------------------\n",
      "Using TextFSM\n",
      "Now running: show ip interface brief\n",
      "[{'intf': 'GigabitEthernet1',\n",
      "  'ipaddr': '172.16.1.10',\n",
      "  'proto': 'up',\n",
      "  'status': 'up'},\n",
      " {'intf': 'GigabitEthernet2',\n",
      "  'ipaddr': '192.168.100.1',\n",
      "  'proto': 'up',\n",
      "  'status': 'up'},\n",
      " {'intf': 'GigabitEthernet3',\n",
      "  'ipaddr': 'unassigned',\n",
      "  'proto': 'down',\n",
      "  'status': 'administratively down'},\n",
      " {'intf': 'GigabitEthernet4',\n",
      "  'ipaddr': 'unassigned',\n",
      "  'proto': 'up',\n",
      "  'status': 'up'},\n",
      " {'intf': 'Loopback1', 'ipaddr': '1.1.1.1', 'proto': 'up', 'status': 'up'},\n",
      " {'intf': 'Loopback200',\n",
      "  'ipaddr': '200.200.200.200',\n",
      "  'proto': 'up',\n",
      "  'status': 'up'}]\n",
      "<class 'list'>\n",
      "----------------------------------------------------------------------------------------------------\n",
      "----------------------------------------------------------------------------------------------------\n",
      "Now runing for csr3\n",
      "Using Genie\n",
      "Now running: show ip interface brief\n",
      "{'interface': {'GigabitEthernet1': {'interface_is_ok': 'YES',\n",
      "                                    'ip_address': '172.16.1.13',\n",
      "                                    'method': 'NVRAM',\n",
      "                                    'protocol': 'up',\n",
      "                                    'status': 'up'},\n",
      "               'GigabitEthernet2': {'interface_is_ok': 'YES',\n",
      "                                    'ip_address': '192.168.100.3',\n",
      "                                    'method': 'manual',\n",
      "                                    'protocol': 'up',\n",
      "                                    'status': 'up'},\n",
      "               'GigabitEthernet3': {'interface_is_ok': 'YES',\n",
      "                                    'ip_address': 'unassigned',\n",
      "                                    'method': 'NVRAM',\n",
      "                                    'protocol': 'down',\n",
      "                                    'status': 'administratively down'},\n",
      "               'GigabitEthernet4': {'interface_is_ok': 'YES',\n",
      "                                    'ip_address': 'unassigned',\n",
      "                                    'method': 'NVRAM',\n",
      "                                    'protocol': 'up',\n",
      "                                    'status': 'up'},\n",
      "               'Loopback3': {'interface_is_ok': 'YES',\n",
      "                             'ip_address': '3.3.3.3',\n",
      "                             'method': 'manual',\n",
      "                             'protocol': 'up',\n",
      "                             'status': 'up'}}}\n",
      "<class 'dict'>\n",
      "----------------------------------------------------------------------------------------------------\n",
      "Using TextFSM\n",
      "Now running: show ip interface brief\n",
      "[{'intf': 'GigabitEthernet1',\n",
      "  'ipaddr': '172.16.1.13',\n",
      "  'proto': 'up',\n",
      "  'status': 'up'},\n",
      " {'intf': 'GigabitEthernet2',\n",
      "  'ipaddr': '192.168.100.3',\n",
      "  'proto': 'up',\n",
      "  'status': 'up'},\n",
      " {'intf': 'GigabitEthernet3',\n",
      "  'ipaddr': 'unassigned',\n",
      "  'proto': 'down',\n",
      "  'status': 'administratively down'},\n",
      " {'intf': 'GigabitEthernet4',\n",
      "  'ipaddr': 'unassigned',\n",
      "  'proto': 'up',\n",
      "  'status': 'up'},\n",
      " {'intf': 'Loopback3', 'ipaddr': '3.3.3.3', 'proto': 'up', 'status': 'up'}]\n",
      "<class 'list'>\n",
      "----------------------------------------------------------------------------------------------------\n",
      "----------------------------------------------------------------------------------------------------\n"
     ]
    }
   ],
   "source": [
    "    # Prompt for username and password\n",
    "    username = input('Enter the username: ')\n",
    "    password = getpass('Enter the password: ')\n",
    "    # Read in the inventory\n",
    "    hosts = read_inventory(inventory_file)\n",
    "    \n",
    "    # Loop through the inventory and use a context handler for the Netmiko session\n",
    "    for key, value in hosts.items():\n",
    "        device = {'host': value['host'], 'port': value['port'],\n",
    "                  'username': username, 'password': password,\n",
    "                  'device_type': value['device_type']}\n",
    "        with Netmiko(**device) as session:\n",
    "            print(f\"Now runing for {key}\")\n",
    "            # Uncomment to display output using Genie\n",
    "            print('Using Genie')\n",
    "            show_commands_genie(session, commands)\n",
    "            print('-'*100)\n",
    "            print('Using TextFSM')\n",
    "            show_commands_textfsm(session, commands)          \n",
    "            print('-'*100) \n",
    "            print('-'*100)"
   ]
  },
  {
   "cell_type": "code",
   "execution_count": null,
   "metadata": {},
   "outputs": [],
   "source": []
  }
 ],
 "metadata": {
  "kernelspec": {
   "display_name": "Python 3",
   "language": "python",
   "name": "python3"
  },
  "language_info": {
   "codemirror_mode": {
    "name": "ipython",
    "version": 3
   },
   "file_extension": ".py",
   "mimetype": "text/x-python",
   "name": "python",
   "nbconvert_exporter": "python",
   "pygments_lexer": "ipython3",
   "version": "3.6.9"
  }
 },
 "nbformat": 4,
 "nbformat_minor": 4
}
