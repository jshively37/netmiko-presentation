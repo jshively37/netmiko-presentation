{
 "cells": [
  {
   "cell_type": "markdown",
   "metadata": {},
   "source": [
    "# Show Commands Script\n",
    "\n",
    "During this lab we are going to utilize Netmiko to log into a handful of routers and issue some basic show commands. \n",
    "\n",
    "This lab will also utilize three methods for returning the data:\n",
    "standard: String\n",
    "Genie: This utilizes the Cisco Genie library and will return the data as a dictionary.\n",
    "TextFSM: This utilizes the Networktocode templates and will return the data as a list of dictionaries."
   ]
  },
  {
   "cell_type": "markdown",
   "metadata": {},
   "source": [
    "### Import Statements\n",
    "\n",
    "In order for this script to run we are going to need some specific libraries:\n",
    "yaml = read in our inventory file.\n",
    "getpass = securely prompt user for the password.\n",
    "netmiko = handle logging into the equipment and execute commands\n",
    "pprint = pretty printing of the output."
   ]
  },
  {
   "cell_type": "code",
   "execution_count": 1,
   "metadata": {},
   "outputs": [],
   "source": [
    "import yaml\n",
    "from getpass import getpass\n",
    "from netmiko import Netmiko\n",
    "from pprint import pprint"
   ]
  },
  {
   "cell_type": "markdown",
   "metadata": {},
   "source": [
    "### Read Inventory\n",
    "\n",
    "This is a basic function that will read in a yaml file and return it as a dictionary.\n",
    "\n",
    "The YAML format should be in:\n",
    "```\n",
    "device_name:  \n",
    "  host: IP address of host\n",
    "  port: SSH port\n",
    "  device_type: Associated device type of the device\n",
    "```"
   ]
  },
  {
   "cell_type": "code",
   "execution_count": 2,
   "metadata": {},
   "outputs": [],
   "source": [
    "def read_inventory(inventory_file):\n",
    "    with open(inventory_file, 'r') as file:\n",
    "        hosts = yaml.safe_load(file)\n",
    "        return hosts"
   ]
  },
  {
   "cell_type": "markdown",
   "metadata": {},
   "source": [
    "### Display output using Genie\n",
    "\n",
    "Genie is "
   ]
  },
  {
   "cell_type": "code",
   "execution_count": 3,
   "metadata": {},
   "outputs": [],
   "source": [
    "def show_commands_genie(session, commands):\n",
    "    for command in commands:\n",
    "        output = session.send_command(command, use_genie=True)\n",
    "        pprint(output) \n",
    "        pprint(type(output))"
   ]
  },
  {
   "cell_type": "markdown",
   "metadata": {},
   "source": [
    "### Display output using TextFSM\n"
   ]
  },
  {
   "cell_type": "code",
   "execution_count": 4,
   "metadata": {},
   "outputs": [],
   "source": [
    "def show_commands_textfsm(session, commands):\n",
    "    for command in commands:\n",
    "        output = session.send_command(command, use_textfsm=True)\n",
    "        pprint(output) \n",
    "        pprint(type(output))"
   ]
  },
  {
   "cell_type": "markdown",
   "metadata": {},
   "source": [
    "### Standard output display\n"
   ]
  },
  {
   "cell_type": "code",
   "execution_count": 5,
   "metadata": {},
   "outputs": [],
   "source": [
    "def show_commands_standard(session, commands):\n",
    "    for command in commands:\n",
    "        output = session.send_command(command)\n",
    "        pprint(output) \n",
    "        pprint(type(output))"
   ]
  },
  {
   "cell_type": "markdown",
   "metadata": {},
   "source": [
    "### Main Section"
   ]
  },
  {
   "cell_type": "code",
   "execution_count": 9,
   "metadata": {},
   "outputs": [
    {
     "name": "stdout",
     "output_type": "stream",
     "text": [
      "show ip interface brief\n"
     ]
    }
   ],
   "source": [
    "if __name__ == '__main__':\n",
    "    inventory_file = 'inventory/routers.yml'\n",
    "    # List of show commands\n",
    "    commands = ['show ip interface brief']\n",
    "    for command in commands:\n",
    "        print(command)"
   ]
  },
  {
   "cell_type": "code",
   "execution_count": 7,
   "metadata": {},
   "outputs": [
    {
     "name": "stdout",
     "output_type": "stream",
     "text": [
      "Enter the username: admin\n",
      "Enter the password: ········\n",
      "Now runing for csr1\n",
      "{'interface': {'GigabitEthernet1': {'interface_is_ok': 'YES',\n",
      "                                    'ip_address': '172.16.1.10',\n",
      "                                    'method': 'NVRAM',\n",
      "                                    'protocol': 'up',\n",
      "                                    'status': 'up'},\n",
      "               'GigabitEthernet2': {'interface_is_ok': 'YES',\n",
      "                                    'ip_address': '192.168.100.1',\n",
      "                                    'method': 'NVRAM',\n",
      "                                    'protocol': 'up',\n",
      "                                    'status': 'up'},\n",
      "               'GigabitEthernet3': {'interface_is_ok': 'YES',\n",
      "                                    'ip_address': 'unassigned',\n",
      "                                    'method': 'NVRAM',\n",
      "                                    'protocol': 'down',\n",
      "                                    'status': 'administratively down'},\n",
      "               'GigabitEthernet4': {'interface_is_ok': 'YES',\n",
      "                                    'ip_address': 'unassigned',\n",
      "                                    'method': 'NVRAM',\n",
      "                                    'protocol': 'up',\n",
      "                                    'status': 'up'},\n",
      "               'Loopback1': {'interface_is_ok': 'YES',\n",
      "                             'ip_address': '1.1.1.1',\n",
      "                             'method': 'NVRAM',\n",
      "                             'protocol': 'up',\n",
      "                             'status': 'up'}}}\n",
      "<class 'dict'>\n",
      "----------------------------------------------------------------------------------------------------\n",
      "Now runing for csr3\n",
      "{'interface': {'GigabitEthernet1': {'interface_is_ok': 'YES',\n",
      "                                    'ip_address': '172.16.1.13',\n",
      "                                    'method': 'NVRAM',\n",
      "                                    'protocol': 'up',\n",
      "                                    'status': 'up'},\n",
      "               'GigabitEthernet2': {'interface_is_ok': 'YES',\n",
      "                                    'ip_address': '192.168.100.2',\n",
      "                                    'method': 'NVRAM',\n",
      "                                    'protocol': 'up',\n",
      "                                    'status': 'up'},\n",
      "               'GigabitEthernet3': {'interface_is_ok': 'YES',\n",
      "                                    'ip_address': 'unassigned',\n",
      "                                    'method': 'NVRAM',\n",
      "                                    'protocol': 'down',\n",
      "                                    'status': 'administratively down'},\n",
      "               'GigabitEthernet4': {'interface_is_ok': 'YES',\n",
      "                                    'ip_address': 'unassigned',\n",
      "                                    'method': 'NVRAM',\n",
      "                                    'protocol': 'up',\n",
      "                                    'status': 'up'},\n",
      "               'Loopback3': {'interface_is_ok': 'YES',\n",
      "                             'ip_address': '3.3.3.3',\n",
      "                             'method': 'NVRAM',\n",
      "                             'protocol': 'up',\n",
      "                             'status': 'up'}}}\n",
      "<class 'dict'>\n",
      "----------------------------------------------------------------------------------------------------\n"
     ]
    }
   ],
   "source": [
    "    # Prompt for username and password\n",
    "    username = input('Enter the username: ')\n",
    "    password = getpass('Enter the password: ')\n",
    "    # Read in the inventory\n",
    "    hosts = read_inventory(inventory_file)\n",
    "    \n",
    "    # Loop through the inventory and use a context handler for the Netmiko session\n",
    "    for key, value in hosts.items():\n",
    "        device = {'host': value['host'], 'port': value['port'],\n",
    "                  'username': username, 'password': password,\n",
    "                  'device_type': value['device_type']}\n",
    "        with Netmiko(**device) as session:\n",
    "            print(f\"Now runing for {key}\")\n",
    "            # Uncomment to display output using Genie\n",
    "            show_commands_genie(session, commands)\n",
    "            \n",
    "            # Uncomment to display output using TextFSM\n",
    "            # show_commands_textfsm(session, commands)\n",
    "            \n",
    "            # Uncomment to use standard output display\n",
    "            # show_commands_standard(session, commands)\n",
    "            \n",
    "            print('-'*100) "
   ]
  },
  {
   "cell_type": "code",
   "execution_count": null,
   "metadata": {},
   "outputs": [],
   "source": []
  }
 ],
 "metadata": {
  "kernelspec": {
   "display_name": "Python 3",
   "language": "python",
   "name": "python3"
  },
  "language_info": {
   "codemirror_mode": {
    "name": "ipython",
    "version": 3
   },
   "file_extension": ".py",
   "mimetype": "text/x-python",
   "name": "python",
   "nbconvert_exporter": "python",
   "pygments_lexer": "ipython3",
   "version": "3.6.9"
  }
 },
 "nbformat": 4,
 "nbformat_minor": 4
}
