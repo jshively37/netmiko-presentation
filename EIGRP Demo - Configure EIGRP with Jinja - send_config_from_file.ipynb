{
 "cells": [
  {
   "cell_type": "code",
   "execution_count": 1,
   "metadata": {},
   "outputs": [],
   "source": [
    "import yaml\n",
    "from jinja2 import Template\n",
    "from getpass import getpass\n",
    "from netmiko import Netmiko\n",
    "from pprint import pprint"
   ]
  },
  {
   "cell_type": "code",
   "execution_count": 2,
   "metadata": {},
   "outputs": [],
   "source": [
    "def read_inventory(inventory_file):\n",
    "    with open(inventory_file, 'r') as f:\n",
    "        inventory = yaml.safe_load(f)\n",
    "    return inventory"
   ]
  },
  {
   "cell_type": "code",
   "execution_count": 3,
   "metadata": {},
   "outputs": [],
   "source": [
    "def generate_config_snippet(jinja_template, value):\n",
    "    with open(jinja_template) as f:\n",
    "        template = Template(f.read())\n",
    "        config_snippet = template.render(value)\n",
    "    return config_snippet"
   ]
  },
  {
   "cell_type": "code",
   "execution_count": 4,
   "metadata": {},
   "outputs": [],
   "source": [
    "def write_config_snippet(config_snippet, output_file):\n",
    "    with open(output_file, 'w') as f:\n",
    "              f.write(config_snippet)"
   ]
  },
  {
   "cell_type": "code",
   "execution_count": 5,
   "metadata": {},
   "outputs": [],
   "source": [
    "if __name__ == '__main__':\n",
    "    username=input('Enter your username: ')\n",
    "    password=getpass('Enter your password: ')"
   ]
  },
  {
   "cell_type": "code",
   "execution_count": 6,
   "metadata": {},
   "outputs": [],
   "source": [
    "    inventory_file = 'inventory/routers.yml'\n",
    "    inventory = read_inventory(inventory_file)"
   ]
  },
  {
   "cell_type": "code",
   "execution_count": 7,
   "metadata": {},
   "outputs": [
    {
     "name": "stdout",
     "output_type": "stream",
     "text": [
      "CSR1#\n",
      "config term\n",
      "Enter configuration commands, one per line.  End with CNTL/Z.\n",
      "CSR1(config)#router eigrp 1\n",
      "CSR1(config-router)#network 1.1.1.1 0.0.0.0\n",
      "CSR1(config-router)#network 192.168.100.0 0.0.0.255\n",
      "CSR1(config-router)#end\n",
      "CSR1#\n",
      "CSR3#\n",
      "config term\n",
      "Enter configuration commands, one per line.  End with CNTL/Z.\n",
      "CSR3(config)#router eigrp 1\n",
      "CSR3(config-router)#network 3.3.3.3 0.0.0.0\n",
      "CSR3(config-router)#network 192.168.100.0 0.0.0.255\n",
      "CSR3(config-router)#end\n",
      "CSR3#\n"
     ]
    }
   ],
   "source": [
    "    jinja_template = 'templates/eigrp.j2'\n",
    "    for key, value in inventory.items():\n",
    "        output_file = f\"snippets/{key}_snippet.cfg\"\n",
    "        config_snippet = generate_config_snippet(jinja_template, value)\n",
    "        write_config_snippet(config_snippet, output_file)\n",
    "        with Netmiko(host=value['host'], \n",
    "                     port=value['port'],\n",
    "                     username=username, \n",
    "                     password=password, \n",
    "                     device_type=value['device_type']) as session:\n",
    "            print(session.find_prompt())\n",
    "            output = session.send_config_from_file(output_file)\n",
    "            print(output)"
   ]
  }
 ],
 "metadata": {
  "kernelspec": {
   "display_name": "Python 3",
   "language": "python",
   "name": "python3"
  },
  "language_info": {
   "codemirror_mode": {
    "name": "ipython",
    "version": 3
   },
   "file_extension": ".py",
   "mimetype": "text/x-python",
   "name": "python",
   "nbconvert_exporter": "python",
   "pygments_lexer": "ipython3",
   "version": "3.8.1"
  }
 },
 "nbformat": 4,
 "nbformat_minor": 4
}
