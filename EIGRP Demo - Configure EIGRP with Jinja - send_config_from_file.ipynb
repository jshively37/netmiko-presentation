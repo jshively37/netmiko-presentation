{
 "cells": [
  {
   "cell_type": "markdown",
   "metadata": {},
   "source": [
    "### Configure EIGRP From a File.\n",
    "\n",
    "Another powerful ability in Netmiko is the ability to deploy configuration using a text file.\n",
    "\n",
    "This could be a straight text file that you could create but what is the fun in that?\n",
    "\n",
    "[Jinja](https://jinja.palletsprojects.com/en/2.11.x/) is a powerful templating language that is widely used.\n",
    "\n",
    "In this lab we are going to utilize jinja to create a configuration file, and push that file using Netmiko.\n",
    "\n",
    "In order to utilize the templating function of jinja we need to import it utilizing ```from jinja2 import Template```\n"
   ]
  },
  {
   "cell_type": "code",
   "execution_count": 1,
   "metadata": {},
   "outputs": [],
   "source": [
    "import yaml\n",
    "from jinja2 import Template\n",
    "from getpass import getpass\n",
    "from netmiko import Netmiko\n",
    "from pprint import pprint"
   ]
  },
  {
   "cell_type": "code",
   "execution_count": 2,
   "metadata": {},
   "outputs": [],
   "source": [
    "def read_inventory(inventory_file):\n",
    "    with open(inventory_file, 'r') as f:\n",
    "        inventory = yaml.safe_load(f)\n",
    "    return inventory"
   ]
  },
  {
   "cell_type": "markdown",
   "metadata": {},
   "source": [
    "### Creating Config Snippet\n",
    "\n",
    "This function is going to take our jinja template and utilize the information read in from our inventory file to render a string.\n",
    "\n",
    "The jinja template:\n",
    "\n",
    "```jinja2\n",
    "router eigrp {{ eigrp.as }}\n",
    "{% for eigrp_network in eigrp.advertised_networks -%}\n",
    "network {{ eigrp_network.network }} {{ eigrp_network.prefix }}\n",
    "{% endfor -%}\n",
    "{% if router_id is defined -%}\n",
    "router-id {{ router_id }}\n",
    "{% endif -%}\n",
    "\n",
    "```\n",
    "\n",
    "Example data from a router:\n",
    "```python\n",
    "{'host': '10.246.32.203', 'port': 1222, 'device_type': 'cisco_ios', 'eigrp': {'as': 1, 'advertised_networks': [{'network': '1.1.1.1', 'prefix': '0.0.0.0'}, {'network': '192.168.100.0', 'prefix': '0.0.0.255'}]}, 'interfaces': [{'name': 'loopback1', 'address': '1.1.1.1', 'netmask': '255.255.255.255', 'enabled': True}]}\n",
    "```\n",
    "\n",
    "Jinja will go through the template and match up dictionary and populate the necessary fields.\n",
    "\n",
    "For example:\n",
    "```jinja2\n",
    "router eigrp {{ eigrp.as }}\n",
    "```\n",
    "Will grab the ```eigrp['as]``` and this will give us ```router eigrp 1```.\n",
    "\n",
    "Jinja can also perform loops with the ```{% for _ in __ %} {% endfor %}``` logic. \n",
    "\n",
    "This will read through our advertised_networks list of dictionaries and populate the correct information:\n",
    "```\n",
    "network 1.1.1.1 0.0.0.0\n",
    "network 192.168.100.0 0.0.0.255\n",
    "```\n",
    "\n",
    "Jinja also allows for checking if a variable exists by the ```{% if __ %} {% endif %}``` along with more complex if, else statements. In our above sample data we do not have a router_id defined in our inventory. However instead of erroring out, Jinja skips it and proceeds."
   ]
  },
  {
   "cell_type": "code",
   "execution_count": 3,
   "metadata": {},
   "outputs": [],
   "source": [
    "def generate_config_snippet(jinja_template, value):\n",
    "    with open(jinja_template) as f:\n",
    "        template = Template(f.read())\n",
    "        config_snippet = template.render(value)\n",
    "    return config_snippet"
   ]
  },
  {
   "cell_type": "markdown",
   "metadata": {},
   "source": [
    "### Write String to File\n",
    "\n",
    "With our config_snippet string generated from Jinja we can easily write this to a specific output file. "
   ]
  },
  {
   "cell_type": "code",
   "execution_count": 4,
   "metadata": {},
   "outputs": [],
   "source": [
    "def write_config_snippet(config_snippet, output_file):\n",
    "    with open(output_file, 'w') as f:\n",
    "              f.write(config_snippet)"
   ]
  },
  {
   "cell_type": "code",
   "execution_count": 5,
   "metadata": {},
   "outputs": [
    {
     "name": "stdout",
     "output_type": "stream",
     "text": [
      "Enter your username: admin\n",
      "Enter your password: ········\n"
     ]
    }
   ],
   "source": [
    "if __name__ == '__main__':\n",
    "    username=input('Enter your username: ')\n",
    "    password=getpass('Enter your password: ')"
   ]
  },
  {
   "cell_type": "code",
   "execution_count": 6,
   "metadata": {},
   "outputs": [],
   "source": [
    "    inventory_file = 'inventory/routers.yml'\n",
    "    inventory = read_inventory(inventory_file)"
   ]
  },
  {
   "cell_type": "markdown",
   "metadata": {},
   "source": [
    "### Push configuration to devices\n",
    "\n",
    "Using our inventory file we can easily use Netmiko's send_config_from_file method to push our jinja generated configuration to our devices."
   ]
  },
  {
   "cell_type": "code",
   "execution_count": 7,
   "metadata": {},
   "outputs": [
    {
     "name": "stdout",
     "output_type": "stream",
     "text": [
      "CSR1#\n",
      "config term\n",
      "Enter configuration commands, one per line.  End with CNTL/Z.\n",
      "CSR1(config)#router eigrp 1\n",
      "CSR1(config-router)#network 1.1.1.1 0.0.0.0\n",
      "CSR1(config-router)#network 192.168.100.0 0.0.0.255\n",
      "CSR1(config-router)#end\n",
      "CSR1#\n",
      "CSR3#\n",
      "config term\n",
      "Enter configuration commands, one per line.  End with CNTL/Z.\n",
      "CSR3(config)#router eigrp 1\n",
      "CSR3(config-router)#network 3.3.3.3 0.0.0.0\n",
      "CSR3(config-router)#network 192.168.100.0 0.0.0.255\n",
      "CSR3(config-router)#end\n",
      "CSR3#\n"
     ]
    }
   ],
   "source": [
    "    jinja_template = 'templates/eigrp.j2'\n",
    "    for key, value in inventory.items():\n",
    "        output_file = f\"snippets/{key}_snippet.cfg\"\n",
    "        config_snippet = generate_config_snippet(jinja_template, value)\n",
    "        write_config_snippet(config_snippet, output_file)\n",
    "        with Netmiko(host=value['host'], \n",
    "                     port=value['port'],\n",
    "                     username=username, \n",
    "                     password=password, \n",
    "                     device_type=value['device_type']) as session:\n",
    "            print(session.find_prompt())\n",
    "            output = session.send_config_from_file(output_file)\n",
    "            print(output)"
   ]
  }
 ],
 "metadata": {
  "kernelspec": {
   "display_name": "Python 3",
   "language": "python",
   "name": "python3"
  },
  "language_info": {
   "codemirror_mode": {
    "name": "ipython",
    "version": 3
   },
   "file_extension": ".py",
   "mimetype": "text/x-python",
   "name": "python",
   "nbconvert_exporter": "python",
   "pygments_lexer": "ipython3",
   "version": "3.6.9"
  }
 },
 "nbformat": 4,
 "nbformat_minor": 4
}
