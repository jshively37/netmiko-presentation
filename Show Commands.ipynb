{
 "cells": [
  {
   "cell_type": "code",
   "execution_count": 1,
   "metadata": {},
   "outputs": [],
   "source": [
    "import getpass\n",
    "from netmiko import Netmiko"
   ]
  },
  {
   "cell_type": "code",
   "execution_count": 2,
   "metadata": {},
   "outputs": [
    {
     "name": "stdout",
     "output_type": "stream",
     "text": [
      "Enter a password········\n"
     ]
    }
   ],
   "source": [
    "password = getpass.getpass('Enter a password')"
   ]
  },
  {
   "cell_type": "code",
   "execution_count": 3,
   "metadata": {},
   "outputs": [
    {
     "name": "stdout",
     "output_type": "stream",
     "text": [
      "Time to make a session\n"
     ]
    }
   ],
   "source": [
    "print('Time to make a session')\n",
    "net_connect = Netmiko(host='10.246.32.203', port='1222', username='admin', password=password, device_type='cisco_ios') "
   ]
  },
  {
   "cell_type": "code",
   "execution_count": 4,
   "metadata": {},
   "outputs": [
    {
     "name": "stdout",
     "output_type": "stream",
     "text": [
      "CSR1#\n"
     ]
    }
   ],
   "source": [
    "prompt = net_connect.find_prompt()\n",
    "print(prompt)"
   ]
  },
  {
   "cell_type": "code",
   "execution_count": 5,
   "metadata": {},
   "outputs": [
    {
     "data": {
      "text/plain": [
       "[{'intf': 'GigabitEthernet1',\n",
       "  'ipaddr': '172.16.1.10',\n",
       "  'status': 'up',\n",
       "  'proto': 'up'},\n",
       " {'intf': 'GigabitEthernet2',\n",
       "  'ipaddr': '192.168.100.1',\n",
       "  'status': 'up',\n",
       "  'proto': 'up'},\n",
       " {'intf': 'GigabitEthernet3',\n",
       "  'ipaddr': 'unassigned',\n",
       "  'status': 'administratively down',\n",
       "  'proto': 'down'},\n",
       " {'intf': 'GigabitEthernet4',\n",
       "  'ipaddr': 'unassigned',\n",
       "  'status': 'up',\n",
       "  'proto': 'up'},\n",
       " {'intf': 'Loopback1', 'ipaddr': '1.1.1.1', 'status': 'up', 'proto': 'up'}]"
      ]
     },
     "execution_count": 5,
     "metadata": {},
     "output_type": "execute_result"
    }
   ],
   "source": [
    "net_connect.send_command('show ip interface brief', use_textfsm=True)"
   ]
  },
  {
   "cell_type": "code",
   "execution_count": 6,
   "metadata": {},
   "outputs": [
    {
     "data": {
      "text/plain": [
       "{'interface': {'GigabitEthernet1': {'ip_address': '172.16.1.10',\n",
       "   'interface_is_ok': 'YES',\n",
       "   'method': 'NVRAM',\n",
       "   'status': 'up',\n",
       "   'protocol': 'up'},\n",
       "  'GigabitEthernet2': {'ip_address': '192.168.100.1',\n",
       "   'interface_is_ok': 'YES',\n",
       "   'method': 'NVRAM',\n",
       "   'status': 'up',\n",
       "   'protocol': 'up'},\n",
       "  'GigabitEthernet3': {'ip_address': 'unassigned',\n",
       "   'interface_is_ok': 'YES',\n",
       "   'method': 'NVRAM',\n",
       "   'status': 'administratively down',\n",
       "   'protocol': 'down'},\n",
       "  'GigabitEthernet4': {'ip_address': 'unassigned',\n",
       "   'interface_is_ok': 'YES',\n",
       "   'method': 'NVRAM',\n",
       "   'status': 'up',\n",
       "   'protocol': 'up'},\n",
       "  'Loopback1': {'ip_address': '1.1.1.1',\n",
       "   'interface_is_ok': 'YES',\n",
       "   'method': 'NVRAM',\n",
       "   'status': 'up',\n",
       "   'protocol': 'up'}}}"
      ]
     },
     "execution_count": 6,
     "metadata": {},
     "output_type": "execute_result"
    }
   ],
   "source": [
    "net_connect.send_command('show ip interface brief', use_genie=True)"
   ]
  },
  {
   "cell_type": "code",
   "execution_count": null,
   "metadata": {},
   "outputs": [],
   "source": []
  }
 ],
 "metadata": {
  "kernelspec": {
   "display_name": "Python 3",
   "language": "python",
   "name": "python3"
  },
  "language_info": {
   "codemirror_mode": {
    "name": "ipython",
    "version": 3
   },
   "file_extension": ".py",
   "mimetype": "text/x-python",
   "name": "python",
   "nbconvert_exporter": "python",
   "pygments_lexer": "ipython3",
   "version": "3.6.9"
  }
 },
 "nbformat": 4,
 "nbformat_minor": 4
}
